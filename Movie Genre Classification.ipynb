{
 "cells": [
  {
   "cell_type": "markdown",
   "id": "e9cb5eec",
   "metadata": {},
   "source": [
    "# CodeSoft Machine Learning Internship \n",
    "\n",
    "## Movie Genere Recommendation \n",
    "\n",
    "Create a machine learning model that can predict the genre of a\n",
    "movie based on its plot summary or other textual information. You\n",
    "can use techniques like TF-IDF or word embeddings with classifiers\n",
    "such as Naive Bayes, Logistic Regression, or Support Vector Machines.\n",
    "\n",
    "DATASET [CLICK HERE](https://www.kaggle.com/datasets/hijest/genre-classification-dataset-imdb)"
   ]
  },
  {
   "cell_type": "markdown",
   "id": "5b91621c-80e9-4f49-ace7-d45415389d93",
   "metadata": {},
   "source": [
    "# Import Libraries"
   ]
  },
  {
   "cell_type": "code",
   "execution_count": 3,
   "id": "dbb4e810",
   "metadata": {},
   "outputs": [],
   "source": [
    "import numpy as np\n",
    "import pandas as pd\n",
    "import seaborn as sns\n",
    "import matplotlib.pyplot as plt\n",
    "import nltk\n",
    "from nltk.corpus import stopwords\n",
    "from sklearn.feature_extraction.text import TfidfVectorizer\n",
    "import re\n",
    "from sklearn.linear_model import LogisticRegression\n",
    "from sklearn.naive_bayes import MultinomialNB\n",
    "from sklearn.ensemble import RandomForestClassifier \n",
    "from sklearn.metrics import accuracy_score, classification_report"
   ]
  },
  {
   "cell_type": "markdown",
   "id": "34d257e2",
   "metadata": {},
   "source": [
    "# Function to load data"
   ]
  },
  {
   "cell_type": "code",
   "execution_count": 4,
   "id": "1f32c827",
   "metadata": {},
   "outputs": [],
   "source": [
    "def load_data(path):\n",
    "    data = pd.read_csv(path, sep=\":::\", names=[\"ID\", \"Title\", \"Genre\", \"Plot\"], engine=\"python\")\n",
    "    data.drop(columns=[\"ID\"], inplace=True)\n",
    "    return data\n"
   ]
  },
  {
   "cell_type": "markdown",
   "id": "2baf71fd",
   "metadata": {},
   "source": [
    "# Loading the training data"
   ]
  },
  {
   "cell_type": "code",
   "execution_count": 5,
   "id": "3a0077ca",
   "metadata": {},
   "outputs": [],
   "source": [
    "df = load_data(\"C:\\\\Users\\\\rishi\\\\Downloads\\\\ML INTERNSHIP\\\\Movie Genre Classification\\\\data\\\\train_data.txt\")"
   ]
  },
  {
   "cell_type": "markdown",
   "id": "44087db6",
   "metadata": {},
   "source": [
    "# Exploring the data"
   ]
  },
  {
   "cell_type": "code",
   "execution_count": 6,
   "id": "f738ab79",
   "metadata": {},
   "outputs": [
    {
     "data": {
      "text/plain": [
       "(54214, 3)"
      ]
     },
     "execution_count": 6,
     "metadata": {},
     "output_type": "execute_result"
    }
   ],
   "source": [
    "df.shape"
   ]
  },
  {
   "cell_type": "code",
   "execution_count": 7,
   "id": "f7ac1a76",
   "metadata": {},
   "outputs": [],
   "source": [
    "# Checking for null values"
   ]
  },
  {
   "cell_type": "code",
   "execution_count": 8,
   "id": "56d57782",
   "metadata": {},
   "outputs": [
    {
     "data": {
      "text/html": [
       "<div>\n",
       "<style scoped>\n",
       "    .dataframe tbody tr th:only-of-type {\n",
       "        vertical-align: middle;\n",
       "    }\n",
       "\n",
       "    .dataframe tbody tr th {\n",
       "        vertical-align: top;\n",
       "    }\n",
       "\n",
       "    .dataframe thead th {\n",
       "        text-align: right;\n",
       "    }\n",
       "</style>\n",
       "<table border=\"1\" class=\"dataframe\">\n",
       "  <thead>\n",
       "    <tr style=\"text-align: right;\">\n",
       "      <th></th>\n",
       "      <th>Title</th>\n",
       "      <th>Genre</th>\n",
       "      <th>Plot</th>\n",
       "    </tr>\n",
       "  </thead>\n",
       "  <tbody>\n",
       "    <tr>\n",
       "      <th>0</th>\n",
       "      <td>Oscar et la dame rose (2009)</td>\n",
       "      <td>drama</td>\n",
       "      <td>Listening in to a conversation between his do...</td>\n",
       "    </tr>\n",
       "    <tr>\n",
       "      <th>1</th>\n",
       "      <td>Cupid (1997)</td>\n",
       "      <td>thriller</td>\n",
       "      <td>A brother and sister with a past incestuous r...</td>\n",
       "    </tr>\n",
       "    <tr>\n",
       "      <th>2</th>\n",
       "      <td>Young, Wild and Wonderful (1980)</td>\n",
       "      <td>adult</td>\n",
       "      <td>As the bus empties the students for their fie...</td>\n",
       "    </tr>\n",
       "    <tr>\n",
       "      <th>3</th>\n",
       "      <td>The Secret Sin (1915)</td>\n",
       "      <td>drama</td>\n",
       "      <td>To help their unemployed father make ends mee...</td>\n",
       "    </tr>\n",
       "    <tr>\n",
       "      <th>4</th>\n",
       "      <td>The Unrecovered (2007)</td>\n",
       "      <td>drama</td>\n",
       "      <td>The film's title refers not only to the un-re...</td>\n",
       "    </tr>\n",
       "  </tbody>\n",
       "</table>\n",
       "</div>"
      ],
      "text/plain": [
       "                                Title       Genre  \\\n",
       "0       Oscar et la dame rose (2009)       drama    \n",
       "1                       Cupid (1997)    thriller    \n",
       "2   Young, Wild and Wonderful (1980)       adult    \n",
       "3              The Secret Sin (1915)       drama    \n",
       "4             The Unrecovered (2007)       drama    \n",
       "\n",
       "                                                Plot  \n",
       "0   Listening in to a conversation between his do...  \n",
       "1   A brother and sister with a past incestuous r...  \n",
       "2   As the bus empties the students for their fie...  \n",
       "3   To help their unemployed father make ends mee...  \n",
       "4   The film's title refers not only to the un-re...  "
      ]
     },
     "execution_count": 8,
     "metadata": {},
     "output_type": "execute_result"
    }
   ],
   "source": [
    "df.head()"
   ]
  },
  {
   "cell_type": "code",
   "execution_count": 9,
   "id": "b6f99fe7",
   "metadata": {},
   "outputs": [
    {
     "data": {
      "text/html": [
       "<div>\n",
       "<style scoped>\n",
       "    .dataframe tbody tr th:only-of-type {\n",
       "        vertical-align: middle;\n",
       "    }\n",
       "\n",
       "    .dataframe tbody tr th {\n",
       "        vertical-align: top;\n",
       "    }\n",
       "\n",
       "    .dataframe thead th {\n",
       "        text-align: right;\n",
       "    }\n",
       "</style>\n",
       "<table border=\"1\" class=\"dataframe\">\n",
       "  <thead>\n",
       "    <tr style=\"text-align: right;\">\n",
       "      <th></th>\n",
       "      <th>Title</th>\n",
       "      <th>Genre</th>\n",
       "      <th>Plot</th>\n",
       "    </tr>\n",
       "  </thead>\n",
       "  <tbody>\n",
       "    <tr>\n",
       "      <th>count</th>\n",
       "      <td>54214</td>\n",
       "      <td>54214</td>\n",
       "      <td>54214</td>\n",
       "    </tr>\n",
       "    <tr>\n",
       "      <th>unique</th>\n",
       "      <td>54214</td>\n",
       "      <td>27</td>\n",
       "      <td>54086</td>\n",
       "    </tr>\n",
       "    <tr>\n",
       "      <th>top</th>\n",
       "      <td>Oscar et la dame rose (2009)</td>\n",
       "      <td>drama</td>\n",
       "      <td>Grammy - music award of the American academy ...</td>\n",
       "    </tr>\n",
       "    <tr>\n",
       "      <th>freq</th>\n",
       "      <td>1</td>\n",
       "      <td>13613</td>\n",
       "      <td>12</td>\n",
       "    </tr>\n",
       "  </tbody>\n",
       "</table>\n",
       "</div>"
      ],
      "text/plain": [
       "                                 Title    Genre  \\\n",
       "count                            54214    54214   \n",
       "unique                           54214       27   \n",
       "top      Oscar et la dame rose (2009)    drama    \n",
       "freq                                 1    13613   \n",
       "\n",
       "                                                     Plot  \n",
       "count                                               54214  \n",
       "unique                                              54086  \n",
       "top      Grammy - music award of the American academy ...  \n",
       "freq                                                   12  "
      ]
     },
     "execution_count": 9,
     "metadata": {},
     "output_type": "execute_result"
    }
   ],
   "source": [
    "df.describe()\n"
   ]
  },
  {
   "cell_type": "code",
   "execution_count": 10,
   "id": "0fd889ab",
   "metadata": {},
   "outputs": [
    {
     "name": "stdout",
     "output_type": "stream",
     "text": [
      "<class 'pandas.core.frame.DataFrame'>\n",
      "RangeIndex: 54214 entries, 0 to 54213\n",
      "Data columns (total 3 columns):\n",
      " #   Column  Non-Null Count  Dtype \n",
      "---  ------  --------------  ----- \n",
      " 0   Title   54214 non-null  object\n",
      " 1   Genre   54214 non-null  object\n",
      " 2   Plot    54214 non-null  object\n",
      "dtypes: object(3)\n",
      "memory usage: 1.2+ MB\n"
     ]
    }
   ],
   "source": [
    "df.info()"
   ]
  },
  {
   "cell_type": "code",
   "execution_count": 11,
   "id": "e30685f3",
   "metadata": {},
   "outputs": [],
   "source": [
    "null_values = df.isnull().sum()"
   ]
  },
  {
   "cell_type": "markdown",
   "id": "e26384bd",
   "metadata": {},
   "source": [
    "# Visualizing genre distribution"
   ]
  },
  {
   "cell_type": "code",
   "execution_count": 12,
   "id": "9e95a569",
   "metadata": {},
   "outputs": [
    {
     "data": {
      "image/png": "[encoded data removed]",
      "text/plain": [
       "<Figure size 3000x1500 with 1 Axes>"
      ]
     },
     "metadata": {},
     "output_type": "display_data"
    }
   ],
   "source": [
    "genres = df['Genre'].value_counts()\n",
    "plt.figure(figsize=(30,15))\n",
    "sns.barplot(x=genres.index, y=genres, palette=\"Set2\", hue=genres)\n",
    "plt.title(\"Genres distribution\", fontsize=30, c='r')\n",
    "plt.xlabel(\"Genres\", fontsize=24)\n",
    "plt.ylabel(\"Count\", fontsize=24)\n",
    "plt.show()"
   ]
  },
  {
   "cell_type": "markdown",
   "id": "0e8bdd55",
   "metadata": {},
   "source": [
    "# Data Preprocessing"
   ]
  },
  {
   "cell_type": "code",
   "execution_count": 13,
   "id": "bfc1c19c",
   "metadata": {},
   "outputs": [],
   "source": [
    "vectorizer = TfidfVectorizer()\n"
   ]
  },
  {
   "cell_type": "code",
   "execution_count": 14,
   "id": "ae82d5aa",
   "metadata": {},
   "outputs": [],
   "source": [
    "plot_samples = df['Plot'][0:2]\n",
    "clean_plots = [re.sub(r'[^a-zA-Z\\s]+', '', plot.lower().strip()) for plot in plot_samples]\n",
    "stop_words = set(stopwords.words('english'))\n",
    "clean_plots = [' '.join([word for word in plot.split() if word.lower() not in stop_words]) for plot in clean_plots]\n"
   ]
  },
  {
   "cell_type": "code",
   "execution_count": 15,
   "id": "a284a4e3",
   "metadata": {},
   "outputs": [],
   "source": [
    "def clean_plot(plot):\n",
    "    plot = plot.lower()\n",
    "    plot = re.sub(r'[^a-zA-Z\\s]+', '', plot).strip()\n",
    "    stop_words = set(stopwords.words('english'))\n",
    "    plot = ' '.join([word for word in plot.split() if word.lower() not in stop_words])\n",
    "    return plot"
   ]
  },
  {
   "cell_type": "code",
   "execution_count": 16,
   "id": "5385e88e",
   "metadata": {},
   "outputs": [],
   "source": [
    "df['Clean Plot'] = df['Plot'].apply(clean_plot)"
   ]
  },
  {
   "cell_type": "markdown",
   "id": "226161c4",
   "metadata": {},
   "source": [
    "# TF-IDF vectorizer"
   ]
  },
  {
   "cell_type": "code",
   "execution_count": 17,
   "id": "e2bf300e",
   "metadata": {},
   "outputs": [],
   "source": [
    "vectorizer = TfidfVectorizer()\n",
    "X_train = vectorizer.fit_transform(df['Clean Plot'])\n",
    "y_train = df['Genre']\n"
   ]
  },
  {
   "cell_type": "code",
   "execution_count": 18,
   "id": "e37998e5",
   "metadata": {},
   "outputs": [],
   "source": [
    "test_data = load_data(\"data/test_data_solution.txt\")\n",
    "test_data['Clean Plot'] = test_data['Plot'].apply(clean_plot)\n",
    "X_test = vectorizer.transform(test_data['Clean Plot'])\n",
    "y_test = test_data['Genre']"
   ]
  },
  {
   "cell_type": "markdown",
   "id": "a8d27f7e",
   "metadata": {},
   "source": [
    "# Naive Bayes Classifier"
   ]
  },
  {
   "cell_type": "code",
   "execution_count": 19,
   "id": "bd907495",
   "metadata": {},
   "outputs": [],
   "source": [
    "model_NB = MultinomialNB()\n",
    "model_NB.fit(X_train, y_train)\n",
    "y_pred_NB = model_NB.predict(X_test)\n",
    "accuracy_NB = accuracy_score(y_test, y_pred_NB)"
   ]
  },
  {
   "cell_type": "markdown",
   "id": "ed13af13",
   "metadata": {},
   "source": [
    "# Logistic Regression Classifier"
   ]
  },
  {
   "cell_type": "code",
   "execution_count": 20,
   "id": "fcb6a061",
   "metadata": {},
   "outputs": [],
   "source": [
    "\n",
    "model_LR = LogisticRegression(max_iter=1000)\n",
    "model_LR.fit(X_train, y_train)\n",
    "y_pred_LR = model_LR.predict(X_test)\n",
    "accuracy_LR = accuracy_score(y_test, y_pred_LR)"
   ]
  },
  {
   "cell_type": "markdown",
   "id": "bffd45d9",
   "metadata": {},
   "source": [
    "# Random Forest Classifier"
   ]
  },
  {
   "cell_type": "code",
   "execution_count": 21,
   "id": "1fb712a9",
   "metadata": {},
   "outputs": [],
   "source": [
    "\n",
    "model_RF = RandomForestClassifier()\n",
    "model_RF.fit(X_train, y_train)\n",
    "y_pred_RF = model_RF.predict(X_test)\n",
    "accuracy_RF = accuracy_score(y_test, y_pred_RF)"
   ]
  },
  {
   "cell_type": "markdown",
   "id": "e8a6f5d3",
   "metadata": {},
   "source": [
    "# Print the accuracies"
   ]
  },
  {
   "cell_type": "code",
   "execution_count": 22,
   "id": "b8a784c4",
   "metadata": {},
   "outputs": [
    {
     "name": "stdout",
     "output_type": "stream",
     "text": [
      "Accuracy of Multinomial Naive Bayes Classifier: 0.44359778597785976\n",
      "Accuracy of Logistic Regression Classifier: 0.5891881918819188\n",
      "Accuracy of Random Forest Classifier: 0.48612546125461253\n"
     ]
    }
   ],
   "source": [
    "\n",
    "print(\"Accuracy of Multinomial Naive Bayes Classifier:\", accuracy_NB)\n",
    "print(\"Accuracy of Logistic Regression Classifier:\", accuracy_LR)\n",
    "print(\"Accuracy of Random Forest Classifier:\", accuracy_RF)\n"
   ]
  },
  {
   "cell_type": "markdown",
   "id": "f6a94125",
   "metadata": {},
   "source": [
    "# Classification Reports"
   ]
  },
  {
   "cell_type": "code",
   "execution_count": 23,
   "id": "c20e007a",
   "metadata": {},
   "outputs": [
    {
     "name": "stdout",
     "output_type": "stream",
     "text": [
      "\n",
      "Classification Report of Multinomial Naive Bayes Classifier:\n",
      "               precision    recall  f1-score   support\n",
      "\n",
      "      action        1.00      0.00      0.00      1314\n",
      "       adult        1.00      0.00      0.00       590\n",
      "   adventure        1.00      0.00      0.00       775\n",
      "   animation        1.00      0.00      0.00       498\n",
      "   biography        1.00      0.00      0.00       264\n",
      "      comedy        0.73      0.04      0.07      7446\n",
      "       crime        1.00      0.00      0.00       505\n",
      " documentary        0.53      0.90      0.67     13096\n",
      "       drama        0.38      0.88      0.53     13612\n",
      "      family        1.00      0.00      0.00       783\n",
      "     fantasy        1.00      0.00      0.00       322\n",
      "   game-show        1.00      0.00      0.00       193\n",
      "     history        1.00      0.00      0.00       243\n",
      "      horror        1.00      0.00      0.00      2204\n",
      "       music        1.00      0.00      0.00       731\n",
      "     musical        1.00      0.00      0.00       276\n",
      "     mystery        1.00      0.00      0.00       318\n",
      "        news        1.00      0.00      0.00       181\n",
      "  reality-tv        1.00      0.00      0.00       883\n",
      "     romance        1.00      0.00      0.00       672\n",
      "      sci-fi        1.00      0.00      0.00       646\n",
      "       short        1.00      0.00      0.01      5072\n",
      "       sport        1.00      0.00      0.00       431\n",
      "   talk-show        1.00      0.00      0.00       391\n",
      "    thriller        1.00      0.00      0.00      1590\n",
      "         war        1.00      0.00      0.00       132\n",
      "     western        1.00      0.00      0.00      1032\n",
      "\n",
      "     accuracy                           0.44     54200\n",
      "    macro avg       0.95      0.07      0.05     54200\n",
      " weighted avg       0.69      0.44      0.30     54200\n",
      "\n",
      "\n",
      "Classification Report of Logistic Regression Classifier:\n",
      "               precision    recall  f1-score   support\n",
      "\n",
      "      action        0.53      0.25      0.34      1314\n",
      "       adult        0.63      0.19      0.30       590\n",
      "   adventure        0.70      0.14      0.23       775\n",
      "   animation        0.57      0.02      0.05       498\n",
      "   biography        1.00      0.00      0.00       264\n",
      "      comedy        0.54      0.59      0.57      7446\n",
      "       crime        0.45      0.02      0.03       505\n",
      " documentary        0.66      0.87      0.75     13096\n",
      "       drama        0.54      0.80      0.64     13612\n",
      "      family        0.54      0.06      0.11       783\n",
      "     fantasy        0.71      0.02      0.03       322\n",
      "   game-show        0.92      0.47      0.62       193\n",
      "     history        1.00      0.00      0.00       243\n",
      "      horror        0.67      0.57      0.62      2204\n",
      "       music        0.70      0.39      0.50       731\n",
      "     musical        1.00      0.00      0.01       276\n",
      "     mystery        1.00      0.00      0.00       318\n",
      "        news        0.75      0.03      0.06       181\n",
      "  reality-tv        0.50      0.15      0.23       883\n",
      "     romance        0.29      0.01      0.01       672\n",
      "      sci-fi        0.60      0.21      0.31       646\n",
      "       short        0.53      0.32      0.40      5072\n",
      "       sport        0.80      0.20      0.33       431\n",
      "   talk-show        0.64      0.13      0.22       391\n",
      "    thriller        0.41      0.11      0.18      1590\n",
      "         war        1.00      0.00      0.00       132\n",
      "     western        0.93      0.70      0.80      1032\n",
      "\n",
      "     accuracy                           0.59     54200\n",
      "    macro avg       0.69      0.23      0.27     54200\n",
      " weighted avg       0.59      0.59      0.54     54200\n",
      "\n",
      "\n",
      "Classification Report of Random Forest Classifier:\n",
      "               precision    recall  f1-score   support\n",
      "\n",
      "      action        0.73      0.01      0.01      1314\n",
      "       adult        0.71      0.05      0.09       590\n",
      "   adventure        0.78      0.11      0.19       775\n",
      "   animation        0.25      0.00      0.00       498\n",
      "   biography        1.00      0.00      0.00       264\n",
      "      comedy        0.54      0.26      0.35      7446\n",
      "       crime        1.00      0.00      0.01       505\n",
      " documentary        0.55      0.89      0.68     13096\n",
      "       drama        0.41      0.84      0.55     13612\n",
      "      family        0.95      0.02      0.04       783\n",
      "     fantasy        0.00      0.00      1.00       322\n",
      "   game-show        0.86      0.50      0.63       193\n",
      "     history        0.00      0.00      1.00       243\n",
      "      horror        0.78      0.11      0.20      2204\n",
      "       music        0.86      0.09      0.17       731\n",
      "     musical        0.50      0.02      0.04       276\n",
      "     mystery        1.00      0.00      0.01       318\n",
      "        news        0.00      0.00      1.00       181\n",
      "  reality-tv        0.67      0.01      0.01       883\n",
      "     romance        0.67      0.00      0.01       672\n",
      "      sci-fi        0.75      0.01      0.02       646\n",
      "       short        0.72      0.06      0.10      5072\n",
      "       sport        0.84      0.12      0.21       431\n",
      "   talk-show        0.92      0.03      0.06       391\n",
      "    thriller        0.47      0.01      0.01      1590\n",
      "         war        1.00      0.02      0.04       132\n",
      "     western        0.94      0.37      0.53      1032\n",
      "\n",
      "     accuracy                           0.49     54200\n",
      "    macro avg       0.66      0.13      0.26     54200\n",
      " weighted avg       0.57      0.49      0.41     54200\n",
      "\n"
     ]
    }
   ],
   "source": [
    "print(\"\\nClassification Report of Multinomial Naive Bayes Classifier:\")\n",
    "print(classification_report(y_test, y_pred_NB, zero_division=1))\n",
    "print(\"\\nClassification Report of Logistic Regression Classifier:\")\n",
    "print(classification_report(y_test, y_pred_LR, zero_division=1))\n",
    "print(\"\\nClassification Report of Random Forest Classifier:\")\n",
    "print(classification_report(y_test, y_pred_RF, zero_division=1))\n"
   ]
  },
  {
   "cell_type": "code",
   "execution_count": null,
   "id": "0fd5ac9c",
   "metadata": {},
   "outputs": [],
   "source": []
  }
 ],
 "metadata": {
  "kernelspec": {
   "display_name": "Python 3 (ipykernel)",
   "language": "python",
   "name": "python3"
  },
  "language_info": {
   "codemirror_mode": {
    "name": "ipython",
    "version": 3
   },
   "file_extension": ".py",
   "mimetype": "text/x-python",
   "name": "python",
   "nbconvert_exporter": "python",
   "pygments_lexer": "ipython3",
   "version": "3.11.8"
  }
 },
 "nbformat": 4,
 "nbformat_minor": 5
}
